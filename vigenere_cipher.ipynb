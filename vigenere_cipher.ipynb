{
 "cells": [
  {
   "cell_type": "markdown",
   "id": "53082fe8-7a34-481e-b611-edb330319f73",
   "metadata": {},
   "source": [
    "### Making Vineger cipher 2D matrix"
   ]
  },
  {
   "cell_type": "code",
   "execution_count": 18,
   "id": "8a06f3f0-a970-443b-af16-ed0a4eee8365",
   "metadata": {},
   "outputs": [
    {
     "name": "stdout",
     "output_type": "stream",
     "text": [
      "26\n",
      "[['a', 'b', 'c', 'd', 'e', 'f', 'g', 'h', 'i', 'j', 'k', 'l', 'm', 'n', 'o', 'p', 'q', 'r', 's', 't', 'u', 'v', 'w', 'x', 'y', 'z'], ['b', 'c', 'd', 'e', 'f', 'g', 'h', 'i', 'j', 'k', 'l', 'm', 'n', 'o', 'p', 'q', 'r', 's', 't', 'u', 'v', 'w', 'x', 'y', 'z', 'a'], ['c', 'd', 'e', 'f', 'g', 'h', 'i', 'j', 'k', 'l', 'm', 'n', 'o', 'p', 'q', 'r', 's', 't', 'u', 'v', 'w', 'x', 'y', 'z', 'a', 'b'], ['d', 'e', 'f', 'g', 'h', 'i', 'j', 'k', 'l', 'm', 'n', 'o', 'p', 'q', 'r', 's', 't', 'u', 'v', 'w', 'x', 'y', 'z', 'a', 'b', 'c'], ['e', 'f', 'g', 'h', 'i', 'j', 'k', 'l', 'm', 'n', 'o', 'p', 'q', 'r', 's', 't', 'u', 'v', 'w', 'x', 'y', 'z', 'a', 'b', 'c', 'd'], ['f', 'g', 'h', 'i', 'j', 'k', 'l', 'm', 'n', 'o', 'p', 'q', 'r', 's', 't', 'u', 'v', 'w', 'x', 'y', 'z', 'a', 'b', 'c', 'd', 'e'], ['g', 'h', 'i', 'j', 'k', 'l', 'm', 'n', 'o', 'p', 'q', 'r', 's', 't', 'u', 'v', 'w', 'x', 'y', 'z', 'a', 'b', 'c', 'd', 'e', 'f'], ['h', 'i', 'j', 'k', 'l', 'm', 'n', 'o', 'p', 'q', 'r', 's', 't', 'u', 'v', 'w', 'x', 'y', 'z', 'a', 'b', 'c', 'd', 'e', 'f', 'g'], ['i', 'j', 'k', 'l', 'm', 'n', 'o', 'p', 'q', 'r', 's', 't', 'u', 'v', 'w', 'x', 'y', 'z', 'a', 'b', 'c', 'd', 'e', 'f', 'g', 'h'], ['j', 'k', 'l', 'm', 'n', 'o', 'p', 'q', 'r', 's', 't', 'u', 'v', 'w', 'x', 'y', 'z', 'a', 'b', 'c', 'd', 'e', 'f', 'g', 'h', 'i'], ['k', 'l', 'm', 'n', 'o', 'p', 'q', 'r', 's', 't', 'u', 'v', 'w', 'x', 'y', 'z', 'a', 'b', 'c', 'd', 'e', 'f', 'g', 'h', 'i', 'j'], ['l', 'm', 'n', 'o', 'p', 'q', 'r', 's', 't', 'u', 'v', 'w', 'x', 'y', 'z', 'a', 'b', 'c', 'd', 'e', 'f', 'g', 'h', 'i', 'j', 'k'], ['m', 'n', 'o', 'p', 'q', 'r', 's', 't', 'u', 'v', 'w', 'x', 'y', 'z', 'a', 'b', 'c', 'd', 'e', 'f', 'g', 'h', 'i', 'j', 'k', 'l'], ['n', 'o', 'p', 'q', 'r', 's', 't', 'u', 'v', 'w', 'x', 'y', 'z', 'a', 'b', 'c', 'd', 'e', 'f', 'g', 'h', 'i', 'j', 'k', 'l', 'm'], ['o', 'p', 'q', 'r', 's', 't', 'u', 'v', 'w', 'x', 'y', 'z', 'a', 'b', 'c', 'd', 'e', 'f', 'g', 'h', 'i', 'j', 'k', 'l', 'm', 'n'], ['p', 'q', 'r', 's', 't', 'u', 'v', 'w', 'x', 'y', 'z', 'a', 'b', 'c', 'd', 'e', 'f', 'g', 'h', 'i', 'j', 'k', 'l', 'm', 'n', 'o'], ['q', 'r', 's', 't', 'u', 'v', 'w', 'x', 'y', 'z', 'a', 'b', 'c', 'd', 'e', 'f', 'g', 'h', 'i', 'j', 'k', 'l', 'm', 'n', 'o', 'p'], ['r', 's', 't', 'u', 'v', 'w', 'x', 'y', 'z', 'a', 'b', 'c', 'd', 'e', 'f', 'g', 'h', 'i', 'j', 'k', 'l', 'm', 'n', 'o', 'p', 'q'], ['s', 't', 'u', 'v', 'w', 'x', 'y', 'z', 'a', 'b', 'c', 'd', 'e', 'f', 'g', 'h', 'i', 'j', 'k', 'l', 'm', 'n', 'o', 'p', 'q', 'r'], ['t', 'u', 'v', 'w', 'x', 'y', 'z', 'a', 'b', 'c', 'd', 'e', 'f', 'g', 'h', 'i', 'j', 'k', 'l', 'm', 'n', 'o', 'p', 'q', 'r', 's'], ['u', 'v', 'w', 'x', 'y', 'z', 'a', 'b', 'c', 'd', 'e', 'f', 'g', 'h', 'i', 'j', 'k', 'l', 'm', 'n', 'o', 'p', 'q', 'r', 's', 't'], ['v', 'w', 'x', 'y', 'z', 'a', 'b', 'c', 'd', 'e', 'f', 'g', 'h', 'i', 'j', 'k', 'l', 'm', 'n', 'o', 'p', 'q', 'r', 's', 't', 'u'], ['w', 'x', 'y', 'z', 'a', 'b', 'c', 'd', 'e', 'f', 'g', 'h', 'i', 'j', 'k', 'l', 'm', 'n', 'o', 'p', 'q', 'r', 's', 't', 'u', 'v'], ['x', 'y', 'z', 'a', 'b', 'c', 'd', 'e', 'f', 'g', 'h', 'i', 'j', 'k', 'l', 'm', 'n', 'o', 'p', 'q', 'r', 's', 't', 'u', 'v', 'w'], ['y', 'z', 'a', 'b', 'c', 'd', 'e', 'f', 'g', 'h', 'i', 'j', 'k', 'l', 'm', 'n', 'o', 'p', 'q', 'r', 's', 't', 'u', 'v', 'w', 'x'], ['z', 'a', 'b', 'c', 'd', 'e', 'f', 'g', 'h', 'i', 'j', 'k', 'l', 'm', 'n', 'o', 'p', 'q', 'r', 's', 't', 'u', 'v', 'w', 'x', 'y']]\n"
     ]
    }
   ],
   "source": [
    "import numpy as np\n",
    "\n",
    "def encrypt(plain_text, shift):\n",
    "    \"\"\"\n",
    "        This function encrypted the plain_text by shifting the alphabet.\n",
    "    \"\"\"\n",
    "       \n",
    "    a, b, c, d, e, f, g, h, i, j, k, l, m, n, o, p, q, r, s, t, u, v, w, x, y, z  = 'a','b', 'c', 'd', 'e', 'f', 'g', 'h', 'i', 'j', 'k', 'l', 'm', 'n', 'o', 'p', 'q', 'r', 's', 't', 'u', 'v', 'w', 'x', 'y', 'z'\n",
    "\n",
    "    arr_ = np.array([a, b, c, d, e, f, g, h, i, j, k, l, m ,n ,o, p, q, r, s, t, u, v, w, x, y, z])\n",
    " \n",
    "    encrypted_text = \"\"\n",
    "\n",
    "    for char_ in plain_text:\n",
    "        for alphabet in arr_:\n",
    "            if char_.lower() == alphabet:\n",
    "                index =list(arr_).index(char_.lower())\n",
    "                shifted_index = (index + shift) % len(arr_)\n",
    "                char_with_shifted_index =arr_[shifted_index]\n",
    "               \n",
    "                encrypted_text += char_with_shifted_index\n",
    "    return encrypted_text          \n",
    "\n",
    "\n",
    "alphabet ='abcdefghijklmnopqrstuvwxyz'\n",
    "new_twoD_array = []\n",
    "\n",
    "shift = 0\n",
    "for index in range(len(alphabet)):\n",
    "    temp_array = []\n",
    "   \n",
    "   \n",
    "    for index, char_ in enumerate(alphabet):\n",
    "        encrypted_text = encrypt(char_, shift)\n",
    "        temp_array.append(encrypted_text)\n",
    "    shift += 1\n",
    "    new_twoD_array.append(temp_array)\n",
    "   \n",
    "print(len(new_twoD_array))\n",
    "       \n",
    "print(new_twoD_array)"
   ]
  },
  {
   "cell_type": "markdown",
   "id": "f0adce43-42e6-47eb-9673-e158792801d6",
   "metadata": {},
   "source": [
    "### Making Repeatitive Key"
   ]
  },
  {
   "cell_type": "code",
   "execution_count": 19,
   "id": "84d11d13-a47a-4a0c-91c3-8416579bc89b",
   "metadata": {},
   "outputs": [
    {
     "name": "stdout",
     "output_type": "stream",
     "text": [
      "kiwikiw\n"
     ]
    }
   ],
   "source": [
    "plain_text = \"Oranges\"\n",
    "key = \"kiwi\"\n",
    "\n",
    "\n",
    "def a_function(key, plain_text):\n",
    "    repeating_key = \"\"\n",
    "    index_key = 0\n",
    "    for index in range(len(plain_text)):\n",
    "        repeating_key += key[index_key] \n",
    "        index_key += 1\n",
    "        if (index_key == len(key)):\n",
    "            index_key = 0\n",
    "    return repeating_key\n",
    "repeating_key = a_function(key, plain_text)\n",
    "print(repeating_key)\n",
    "\n",
    "    \n",
    "    "
   ]
  },
  {
   "cell_type": "markdown",
   "id": "1a0545c5-94df-4eaf-8336-47e624e9cd2f",
   "metadata": {},
   "source": [
    "### Making alphabet dictonary"
   ]
  },
  {
   "cell_type": "code",
   "execution_count": 20,
   "id": "5a3fb102-25d1-4717-8e5b-31cb692ca2fe",
   "metadata": {},
   "outputs": [
    {
     "name": "stdout",
     "output_type": "stream",
     "text": [
      "{'a': 0, 'b': 1, 'c': 2, 'd': 3, 'e': 4, 'f': 5, 'g': 6, 'h': 7, 'i': 8, 'j': 9, 'k': 10, 'l': 11, 'm': 12, 'n': 13, 'o': 14, 'p': 15, 'q': 16, 'r': 17, 's': 18, 't': 19, 'u': 20, 'v': 21, 'w': 22, 'x': 23, 'y': 24, 'z': 25}\n"
     ]
    }
   ],
   "source": [
    "a, b, c, d, e, f, g, h, i, j, k, l, m, n, o, p, q, r, s, t, u, v, w, x, y, z  = 'a','b', 'c', 'd', 'e', 'f', 'g', 'h', 'i', 'j', 'k', 'l', 'm', 'n', 'o', 'p', 'q', 'r', 's', 't', 'u', 'v', 'w', 'x', 'y', 'z'\n",
    "\n",
    "arr_ = np.array([a, b, c, d, e, f, g, h, i, j, k, l, m ,n ,o, p, q, r, s, t, u, v, w, x, y, z])\n",
    "\n",
    "alphabet_dictionary = {}\n",
    "\n",
    "for index, alphabet in enumerate(arr_):\n",
    "    alphabet_dictionary.update({alphabet: index})\n",
    "print(alphabet_dictionary)"
   ]
  },
  {
   "cell_type": "markdown",
   "id": "7d781dac-d6b9-4e57-b8c5-d682576ff21b",
   "metadata": {},
   "source": [
    "### Encrypting the plain text using Vineger Cipher Encryption Algorithm"
   ]
  },
  {
   "cell_type": "code",
   "execution_count": 33,
   "id": "e294ab5e-c3c2-4776-9317-ac814b0a2030",
   "metadata": {},
   "outputs": [
    {
     "name": "stdout",
     "output_type": "stream",
     "text": [
      "y\n",
      "\n",
      "z\n",
      "\n",
      "w\n",
      "\n",
      "v\n",
      "\n",
      "q\n",
      "\n",
      "m\n",
      "\n",
      "o\n",
      "\n"
     ]
    }
   ],
   "source": [
    "encrypted_vigenere_text = \"\"\n",
    "for index in range(len(plain_text)):\n",
    "    plain_text_char = plain_text[index]\n",
    "    plain_text_char = plain_text_char.lower()\n",
    "    alphebet_plain_text_index = alphabet_dictionary[plain_text_char]\n",
    "    alphebet_repeatingkey_index = alphabet_dictionary[repeating_key[index]]\n",
    "    letter = new_twoD_array[alphebet_repeatingkey_index][alphebet_plain_text_index ]\n",
    "    encrypted_vigenere_text += letter\n",
    "    print(letter)\n",
    "print(encrypted_vigenere_text)"
   ]
  },
  {
   "cell_type": "code",
   "execution_count": null,
   "id": "b740d69f-afae-462b-8446-3dc129e3b406",
   "metadata": {},
   "outputs": [],
   "source": []
  },
  {
   "cell_type": "code",
   "execution_count": null,
   "id": "dc16157b-7217-49d6-9042-7dc49634c170",
   "metadata": {},
   "outputs": [],
   "source": []
  }
 ],
 "metadata": {
  "kernelspec": {
   "display_name": "Python 3 (ipykernel)",
   "language": "python",
   "name": "python3"
  },
  "language_info": {
   "codemirror_mode": {
    "name": "ipython",
    "version": 3
   },
   "file_extension": ".py",
   "mimetype": "text/x-python",
   "name": "python",
   "nbconvert_exporter": "python",
   "pygments_lexer": "ipython3",
   "version": "3.11.5"
  }
 },
 "nbformat": 4,
 "nbformat_minor": 5
}
